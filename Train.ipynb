{
 "cells": [
  {
   "cell_type": "markdown",
   "metadata": {
    "deletable": true,
    "editable": true
   },
   "source": [
    "* References : https://github.com/llSourcell/how_to_deploy_a_keras_model_to_production/blob/master/train.py"
   ]
  },
  {
   "cell_type": "code",
   "execution_count": 1,
   "metadata": {
    "collapsed": false,
    "deletable": true,
    "editable": true
   },
   "outputs": [
    {
     "name": "stderr",
     "output_type": "stream",
     "text": [
      "Using TensorFlow backend.\n"
     ]
    },
    {
     "name": "stdout",
     "output_type": "stream",
     "text": [
      "Couldn't import dot_parser, loading of dot files will not be possible.\n"
     ]
    }
   ],
   "source": [
    "from __future__ import print_function\n",
    "import keras\n",
    "from keras.datasets import mnist\n",
    "from keras.models import Sequential\n",
    "from keras.layers import Dense, Dropout, Flatten\n",
    "from keras.layers import Conv2D, MaxPooling2D\n",
    "from keras import backend as K"
   ]
  },
  {
   "cell_type": "code",
   "execution_count": 2,
   "metadata": {
    "collapsed": true,
    "deletable": true,
    "editable": true
   },
   "outputs": [],
   "source": [
    "batch_size = 128\n",
    "num_classes = 10\n",
    "epochs = 12\n",
    "\n",
    "img_rows, img_cols = 28,28"
   ]
  },
  {
   "cell_type": "code",
   "execution_count": 3,
   "metadata": {
    "collapsed": true,
    "deletable": true,
    "editable": true
   },
   "outputs": [],
   "source": [
    "(X_Train, y_Train), (X_Test, y_Test) = mnist.load_data()"
   ]
  },
  {
   "cell_type": "code",
   "execution_count": 4,
   "metadata": {
    "collapsed": false,
    "deletable": true,
    "editable": true
   },
   "outputs": [
    {
     "data": {
      "text/plain": [
       "'channels_last'"
      ]
     },
     "execution_count": 4,
     "metadata": {},
     "output_type": "execute_result"
    }
   ],
   "source": [
    "K.image_data_format()"
   ]
  },
  {
   "cell_type": "code",
   "execution_count": 5,
   "metadata": {
    "collapsed": true,
    "deletable": true,
    "editable": true
   },
   "outputs": [],
   "source": [
    "X_Train = X_Train.reshape(X_Train.shape[0], img_rows, img_cols, 1)\n",
    "X_Test = X_Test.reshape(X_Test.shape[0], img_rows, img_cols, 1)"
   ]
  },
  {
   "cell_type": "code",
   "execution_count": 6,
   "metadata": {
    "collapsed": false,
    "deletable": true,
    "editable": true
   },
   "outputs": [],
   "source": [
    "X_Train = X_Train.astype('float32')\n",
    "X_Test = X_Test.astype('float32')\n",
    "X_Train /= 255\n",
    "X_Test /= 255"
   ]
  },
  {
   "cell_type": "code",
   "execution_count": 7,
   "metadata": {
    "collapsed": false,
    "deletable": true,
    "editable": true
   },
   "outputs": [],
   "source": [
    "y_Train = keras.utils.to_categorical(y_Train, num_classes)\n",
    "y_Test = keras.utils.to_categorical(y_Test, num_classes)"
   ]
  },
  {
   "cell_type": "code",
   "execution_count": 8,
   "metadata": {
    "collapsed": true,
    "deletable": true,
    "editable": true
   },
   "outputs": [],
   "source": [
    "model = Sequential()\n",
    "model.add(Conv2D(32, (3,3), activation='elu', input_shape=(img_rows,img_cols,1)))\n",
    "model.add(Conv2D(65, (3,3), activation='elu'))\n",
    "model.add(MaxPooling2D((2,2)))\n",
    "model.add(Dropout(0.25))\n",
    "model.add(Flatten())\n",
    "model.add(Dense(128, activation='elu'))\n",
    "model.add(Dropout(0.5))\n",
    "model.add(Dense(num_classes, activation='softmax'))\n",
    "model.compile(loss=keras.losses.categorical_crossentropy,\n",
    "             optimizer=keras.optimizers.Adam(),\n",
    "             metrics=['accuracy'])"
   ]
  },
  {
   "cell_type": "code",
   "execution_count": 9,
   "metadata": {
    "collapsed": false,
    "deletable": true,
    "editable": true
   },
   "outputs": [
    {
     "name": "stdout",
     "output_type": "stream",
     "text": [
      "Train on 60000 samples, validate on 10000 samples\n",
      "Epoch 1/12\n",
      "6s - loss: 0.2208 - acc: 0.9327 - val_loss: 0.0632 - val_acc: 0.9794\n",
      "Epoch 2/12\n",
      "5s - loss: 0.0939 - acc: 0.9711 - val_loss: 0.0487 - val_acc: 0.9846\n",
      "Epoch 3/12\n",
      "5s - loss: 0.0767 - acc: 0.9757 - val_loss: 0.0449 - val_acc: 0.9852\n",
      "Epoch 4/12\n",
      "5s - loss: 0.0657 - acc: 0.9798 - val_loss: 0.0464 - val_acc: 0.9846\n",
      "Epoch 5/12\n",
      "5s - loss: 0.0560 - acc: 0.9817 - val_loss: 0.0459 - val_acc: 0.9856\n",
      "Epoch 6/12\n",
      "5s - loss: 0.0506 - acc: 0.9840 - val_loss: 0.0452 - val_acc: 0.9861\n",
      "Epoch 7/12\n",
      "5s - loss: 0.0474 - acc: 0.9852 - val_loss: 0.0415 - val_acc: 0.9879\n",
      "Epoch 8/12\n",
      "5s - loss: 0.0429 - acc: 0.9856 - val_loss: 0.0508 - val_acc: 0.9853\n",
      "Epoch 9/12\n",
      "5s - loss: 0.0403 - acc: 0.9869 - val_loss: 0.0427 - val_acc: 0.9884\n",
      "Epoch 10/12\n",
      "6s - loss: 0.0374 - acc: 0.9874 - val_loss: 0.0426 - val_acc: 0.9884\n",
      "Epoch 11/12\n",
      "5s - loss: 0.0352 - acc: 0.9881 - val_loss: 0.0426 - val_acc: 0.9888\n",
      "Epoch 12/12\n",
      "5s - loss: 0.0371 - acc: 0.9879 - val_loss: 0.0422 - val_acc: 0.9888\n"
     ]
    },
    {
     "data": {
      "text/plain": [
       "<keras.callbacks.History at 0x7f1685483fd0>"
      ]
     },
     "execution_count": 9,
     "metadata": {},
     "output_type": "execute_result"
    }
   ],
   "source": [
    "model.fit(X_Train, y_Train,\n",
    "         batch_size=batch_size,\n",
    "         epochs=epochs,\n",
    "         verbose=2,\n",
    "         validation_data=(X_Test, y_Test))"
   ]
  },
  {
   "cell_type": "code",
   "execution_count": 10,
   "metadata": {
    "collapsed": false,
    "deletable": true,
    "editable": true
   },
   "outputs": [
    {
     "name": "stdout",
     "output_type": "stream",
     "text": [
      "Test Loss: 0.0422385678928\n",
      "Test Accuracy: 0.9888\n"
     ]
    }
   ],
   "source": [
    "score = model.evaluate(X_Test, y_Test, verbose=0)\n",
    "print(\"Test Loss:\", score[0])\n",
    "print(\"Test Accuracy:\", score[1])"
   ]
  },
  {
   "cell_type": "code",
   "execution_count": 11,
   "metadata": {
    "collapsed": false,
    "deletable": true,
    "editable": true
   },
   "outputs": [
    {
     "name": "stdout",
     "output_type": "stream",
     "text": [
      "Saved model\n"
     ]
    }
   ],
   "source": [
    "model_json = model.to_json()\n",
    "with open(\"model.json\",\"w\") as json_file:\n",
    "    json_file.write(model_json)\n",
    "model.save_weights(\"model.h5\")\n",
    "print(\"Saved model\")"
   ]
  },
  {
   "cell_type": "code",
   "execution_count": null,
   "metadata": {
    "collapsed": true,
    "deletable": true,
    "editable": true
   },
   "outputs": [],
   "source": []
  }
 ],
 "metadata": {
  "kernelspec": {
   "display_name": "Python 2",
   "language": "python",
   "name": "python2"
  },
  "language_info": {
   "codemirror_mode": {
    "name": "ipython",
    "version": 2
   },
   "file_extension": ".py",
   "mimetype": "text/x-python",
   "name": "python",
   "nbconvert_exporter": "python",
   "pygments_lexer": "ipython2",
   "version": "2.7.6"
  }
 },
 "nbformat": 4,
 "nbformat_minor": 2
}
